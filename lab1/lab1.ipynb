{
  "cells": [
    {
      "cell_type": "markdown",
      "metadata": {
        "id": "FzAsphetd6pG"
      },
      "source": [
        "# AI Agents\n",
        "\n",
        "In this assignment, your task is to implement ... The algorithms are a recap from your earlier Algorithms and Data Structures class, but the input is slightly different: the graph is not materialized. Instead, it is generated dynamically and you can access a single node of the graph at a time."
      ]
    },
    {
      "cell_type": "markdown",
      "metadata": {
        "id": "gGOa8uPbd6pI"
      },
      "source": [
        "## Agent"
      ]
    },
    {
      "cell_type": "markdown",
      "metadata": {
        "id": "aP125MIFd6pJ"
      },
      "source": [
        "We begin by considering a generic problem-solving agent. The agent receives *percepts* from its *environment* through *sensors* and uses *actuators* to perform *actions* to influence the environment. The process of converting the percepts to the actions (denoted by the question mark in the picture below) is the core function of the agent."
      ]
    },
    {
      "cell_type": "markdown",
      "metadata": {
        "id": "OISnGXmwd6pJ"
      },
      "source": [
        "![](aima-images/fig2_1.png)"
      ]
    },
    {
      "cell_type": "markdown",
      "metadata": {
        "id": "PRpqejQyd6pJ"
      },
      "source": [
        "This picture is very general and covers a broad range of agents, both software (e.g., a chatbot) and hardware (e.g., a robot vacuum cleaner). For now, we will simplify. We will ignore sensors and actuators and concentrate only on the core. We will implement it according to the following contract represented as the class `Agent` (see cell below) with a single method: `do_step`. The sole argument of the method are the percepts of the agent and it should return an action to be executed next."
      ]
    },
    {
      "cell_type": "code",
      "execution_count": null,
      "metadata": {
        "id": "VLXnhgjNd6pJ"
      },
      "outputs": [],
      "source": [
        "class Agent:\n",
        "    def next_action(self, percepts):\n",
        "        ...\n",
        "        return action"
      ]
    },
    {
      "cell_type": "code",
      "execution_count": null,
      "metadata": {
        "id": "d4g8KDvbd6pK"
      },
      "outputs": [],
      "source": [
        "class Agent:\n",
        "    def next_action(self, percepts):\n",
        "        ...\n",
        "        return action"
      ]
    },
    {
      "cell_type": "markdown",
      "metadata": {
        "id": "fVDP1Ly7d6pK"
      },
      "source": [
        "## Problem"
      ]
    },
    {
      "cell_type": "markdown",
      "metadata": {
        "id": "clPAD5Qld6pK"
      },
      "source": [
        "The environment above represents a real environment, meaning that any action in it will be visible to the user. Usually, it makes it unsuitable for planning what action to take. For example, if one plans to go on a car trip from Poznań to Berlin, one does not start driving blindly trying to find a route to Berlin. Instead, one takes a map and search for it on a model of the environment. We will combine this model with the definition of the problem to be solved, i.e., a starting position and a destination.\n",
        "\n",
        "This is represented by the class `Problem` below. It has a single property `initial_state` that returns the starting position in the problem, e.g., the city of Poznań in the example about the trip. There are also three methods:\n",
        "* `available_actions` returns, for a given `state` (e.g., a currently considered city), what actions are to be considered (e.g., what are the neighbouring cities one could go to directly from the currently considered city)\n",
        "* `do_action` returns new state reached from the state `state` by executing the action `action` (e.g., the state representing that begin in Poznań and taking the highway to Warsaw, one ends up in Warsaw)\n",
        "* `is_goal` which returns `True` if `state` is (one of) the destination(s) for the agent in this particular problem."
      ]
    },
    {
      "cell_type": "code",
      "execution_count": null,
      "metadata": {
        "id": "u3kcAD8bd6pL"
      },
      "outputs": [],
      "source": [
        "class Problem:\n",
        "    @property\n",
        "    def initial_state(self):\n",
        "        ...\n",
        "        \n",
        "    def available_actions(self, state):\n",
        "        ...        \n",
        "        \n",
        "    def do_action(self, state, action):\n",
        "        ...\n",
        "        return new_state\n",
        "    \n",
        "    def is_goal(self, state) -> bool:\n",
        "        ..."
      ]
    },
    {
      "cell_type": "markdown",
      "metadata": {
        "id": "ByVACbSGd6pL"
      },
      "source": [
        "To ground the problem definition in something more concrete consider a small flat of two dirty rooms and a robotic vacuum cleaner, as depicted in the following picture:\n",
        "![](aima-images/fig2_2.png)"
      ]
    },
    {
      "cell_type": "markdown",
      "metadata": {
        "id": "02WLJ1s2d6pL"
      },
      "source": [
        "In the model, there are two rooms (A, B), each of them is either dirty or clean and the robot can always go to the left or to the right (maybe bumping into a wall), or suck the dirt (even if there's no dirt).\n",
        "\n",
        "This is a model. Maybe the real environment is similar: two very small, rectangular rooms such that a single \"suck\" of the robot cleans the whole room at a time. Maybe it is very dissimilary: there are more rooms and they're of varying shapes, and actually cleaning them is a tedious task. The agent doesn't know and must thus assume that the `Problem` represents the environment well enough.\n",
        "\n",
        "Assume the initial state looks like the picture above, and there are two goal states: both rooms clean and robot in either room A or room B. Lets formalize all this into the class `VacuumProblem`"
      ]
    },
    {
      "cell_type": "code",
      "execution_count": null,
      "metadata": {
        "id": "DMv9NYFWd6pL"
      },
      "outputs": [],
      "source": [
        "class VacuumProblem(Problem):\n",
        "    @property\n",
        "    def initial_state(self):\n",
        "        return (0, (True, True))\n",
        "    \n",
        "    def available_actions(self, state):\n",
        "        return [\"Left\", \"Suck\", \"Right\"]\n",
        "        \n",
        "    def do_action(self, state, action):\n",
        "        robot, dirty = state\n",
        "        if action == \"Left\":\n",
        "            return (max(robot-1, 0), dirty)\n",
        "        elif action == \"Suck\":\n",
        "            new_dirty = list(dirty)\n",
        "            new_dirty[robot] = False\n",
        "            return (robot, tuple(new_dirty))\n",
        "        elif action == \"Right\":\n",
        "            return (min(robot+1, len(dirty)-1), dirty)        \n",
        "        raise Exception('Invalid action')\n",
        "    \n",
        "    def is_goal(self, state) -> bool:\n",
        "        return not any(state[1])"
      ]
    },
    {
      "cell_type": "markdown",
      "metadata": {
        "id": "GBqauTrhd6pL"
      },
      "source": [
        "Lets test it a bit:"
      ]
    },
    {
      "cell_type": "code",
      "execution_count": null,
      "metadata": {
        "colab": {
          "base_uri": "https://localhost:8080/"
        },
        "id": "ijYSxKZ4d6pL",
        "outputId": "dfd68b47-4dbe-4cf6-e561-5a3b93ff366e"
      },
      "outputs": [
        {
          "name": "stdout",
          "output_type": "stream",
          "text": [
            "State after going right from the initial state (1, (True, True))\n",
            "Are we there yet? False\n"
          ]
        }
      ],
      "source": [
        "problem = VacuumProblem()\n",
        "state = problem.initial_state\n",
        "state = problem.do_action(state, 'Right')\n",
        "\n",
        "print(\"State after going right from the initial state\", state)\n",
        "print(\"Are we there yet?\", problem.is_goal(state))"
      ]
    },
    {
      "cell_type": "code",
      "execution_count": null,
      "metadata": {
        "colab": {
          "base_uri": "https://localhost:8080/"
        },
        "id": "pI7i--ptd6pM",
        "outputId": "4f7a2f42-0dc6-4b7e-de99-9b5f87d92e54"
      },
      "outputs": [
        {
          "name": "stdout",
          "output_type": "stream",
          "text": [
            "State after going right again (1, (True, True))\n",
            "Are we there yet? False\n"
          ]
        }
      ],
      "source": [
        "state = problem.do_action(state, 'Right')\n",
        "\n",
        "print(\"State after going right again\", state)\n",
        "print(\"Are we there yet?\", problem.is_goal(state))"
      ]
    },
    {
      "cell_type": "code",
      "execution_count": null,
      "metadata": {
        "colab": {
          "base_uri": "https://localhost:8080/"
        },
        "id": "wAqlJvNAd6pM",
        "outputId": "3c4d31f7-18db-4d78-c81c-eb86d4a218ad"
      },
      "outputs": [
        {
          "name": "stdout",
          "output_type": "stream",
          "text": [
            "State after sucking (1, (True, False))\n",
            "Are we there yet? False\n"
          ]
        }
      ],
      "source": [
        "state = problem.do_action(state, 'Suck')\n",
        "\n",
        "print(\"State after sucking\", state)\n",
        "print(\"Are we there yet?\", problem.is_goal(state))"
      ]
    },
    {
      "cell_type": "code",
      "execution_count": null,
      "metadata": {
        "colab": {
          "base_uri": "https://localhost:8080/"
        },
        "id": "cjDlZ7mQd6pM",
        "outputId": "bfff6cf6-cfd2-4153-a31c-e7969783c07a"
      },
      "outputs": [
        {
          "name": "stdout",
          "output_type": "stream",
          "text": [
            "State after going to the left twice and sucking (0, (False, False))\n",
            "Are we there yet? True\n"
          ]
        }
      ],
      "source": [
        "state = problem.do_action(state, 'Left')\n",
        "state = problem.do_action(state, 'Left')\n",
        "state = problem.do_action(state, 'Suck')\n",
        "\n",
        "print(\"State after going to the left twice and sucking\", state)\n",
        "print(\"Are we there yet?\", problem.is_goal(state))"
      ]
    },
    {
      "cell_type": "markdown",
      "metadata": {
        "id": "H--JJQxjd6pN"
      },
      "source": [
        "## Oracular agent\n",
        "\n",
        "Consider the following oracular agent. It is initialized with a problem and has an embedded oracle, which provides it with a sequence of actions to be executed to reach a goal in the problem."
      ]
    },
    {
      "cell_type": "code",
      "execution_count": null,
      "metadata": {
        "id": "bI8Wdf3ad6pN"
      },
      "outputs": [],
      "source": [
        "class OracularAgent(Agent):\n",
        "    def __init__(self, problem):\n",
        "        self.problem = problem\n",
        "        self.plan = self.oracle()\n",
        "        \n",
        "    def next_action(self, percepts):\n",
        "        return self.plan.pop(0)\n",
        "    \n",
        "    def oracle(self):\n",
        "        return ['Suck', 'Right', 'Suck']"
      ]
    },
    {
      "cell_type": "markdown",
      "metadata": {
        "id": "yJYYDpwBd6pN"
      },
      "source": [
        "Now it is the time to test this agent. We create an instance of the `VacuumProblem` and then ask the agent for `next_action`s until goal is not reach."
      ]
    },
    {
      "cell_type": "code",
      "execution_count": null,
      "metadata": {
        "colab": {
          "base_uri": "https://localhost:8080/"
        },
        "id": "5zd_No2hd6pN",
        "outputId": "eb2c5665-f259-42a9-9eb3-ba97d782f8d7"
      },
      "outputs": [
        {
          "name": "stdout",
          "output_type": "stream",
          "text": [
            "Reached state: (1, (False, False))\n",
            "Is it goal? True\n"
          ]
        }
      ],
      "source": [
        "problem = VacuumProblem()\n",
        "agent = OracularAgent(problem)\n",
        "\n",
        "state = problem.initial_state\n",
        "while not problem.is_goal(state):\n",
        "    action = agent.next_action(None)\n",
        "    state = problem.do_action(state, action)\n",
        "    \n",
        "print(\"Reached state:\", state)\n",
        "print(\"Is it goal?\", problem.is_goal(state))"
      ]
    },
    {
      "cell_type": "markdown",
      "metadata": {
        "id": "QmNKsfA-d6pN"
      },
      "source": [
        "Observe that the agent works remarkably well and is able to reach a goal state with no problem whatsoever. It is fast, the code is short. There is only one obvious drawback: the solution is hard-coded and completely unsuitable not only to other types of problems, but also for other variants of the vacuum problem, e.g., such that the robot must return to the room A. We must therefore look for a more general solution: a searching agent."
      ]
    },
    {
      "cell_type": "markdown",
      "metadata": {
        "id": "mPnKRqC-d6pN"
      },
      "source": [
        "## Task 1: Implement a breadth-first searching agent\n",
        "\n",
        "Complete the method `bfs` in the class `BFSAgent` in the next cell. It should implement breadth-first search, an algorithm you should be familar with after the *Algorithms and data structures* classes. The main difference is that the graph is not explicitly specified not available as a whole. Instead, you must look on the `Problem` as a graph generator: a state corresponds to a node in the graph and each action available in the state corresponds to an arc from the current state to the state reached by executing this action. The following picture should help you to understand the concept.\n",
        "\n",
        "![](aima-images/fig3_3.png)"
      ]
    },
    {
      "cell_type": "code",
      "execution_count": null,
      "metadata": {
        "id": "ss-n1CFwd6pO"
      },
      "outputs": [],
      "source": [
        "class BFSAgent(Agent):\n",
        "    def __init__(self, problem):\n",
        "        self.problem = problem\n",
        "        self.plan = self.bfs()\n",
        "        \n",
        "    def next_action(self, percepts):\n",
        "        return self.plan.pop(0)\n",
        "    \n",
        "    def bfs(self):\n",
        "        state = self.problem.initial_state\n",
        "        visited = [[[],state]]\n",
        "        taken_states =set()\n",
        "        idx=0\n",
        "        nazwa = 0\n",
        "        while 1:\n",
        "            starting_state = visited[idx][1]\n",
        "            route_to_starting_state = visited[idx][0].copy()\n",
        "            for m in self.problem.available_actions(starting_state):\n",
        "                action = m\n",
        "                state = self.problem.do_action(starting_state, action)\n",
        "                if (state not in taken_states):\n",
        "                  temp_arr = route_to_starting_state.copy()\n",
        "                  visited.append([temp_arr,state])\n",
        "                  visited[-1][0].append(action)\n",
        "                  taken_states.add(state)\n",
        "                if(problem.is_goal(state)):\n",
        "                    return visited[-1][0]\n",
        "            idx += 1  "
      ]
    },
    {
      "cell_type": "markdown",
      "metadata": {},
      "source": [
        "My bfs implementation uses set of states it has already been at earlier, to prohibit it from taking action that would put problem in same state it has already been at with more moves since in both of given problems there is no need to reach same state twice and it's always going to be worse. This way we can reduce search space of all possible operations greatly."
      ]
    },
    {
      "cell_type": "markdown",
      "metadata": {
        "id": "pjmqWOaHd6pO"
      },
      "source": [
        "Lets test the solution in the same framework as the oracular agent"
      ]
    },
    {
      "cell_type": "code",
      "execution_count": null,
      "metadata": {
        "colab": {
          "base_uri": "https://localhost:8080/"
        },
        "id": "KdKjSe8cd6pO",
        "outputId": "64b7e0a2-5911-4b07-a477-dfce9f15976a"
      },
      "outputs": [
        {
          "name": "stdout",
          "output_type": "stream",
          "text": [
            "Plan to be executed ['Suck', 'Right', 'Suck']\n",
            "Reached state: (1, (False, False))\n",
            "Is it goal? True\n"
          ]
        }
      ],
      "source": [
        "problem = VacuumProblem()\n",
        "agent = BFSAgent(problem)\n",
        "\n",
        "print(\"Plan to be executed\", agent.plan)\n",
        "\n",
        "state = problem.initial_state\n",
        "while not problem.is_goal(state):\n",
        "    action = agent.next_action(None)\n",
        "    state = problem.do_action(state, action)\n",
        "    \n",
        "print(\"Reached state:\", state)\n",
        "print(\"Is it goal?\", problem.is_goal(state))"
      ]
    },
    {
      "cell_type": "markdown",
      "metadata": {
        "id": "no1yWy4jd6pO"
      },
      "source": [
        "## Task 2: Implementing depth-first searching agent\n",
        "\n",
        "Complete the method `dfs` in the class `BFSAgent` in the next cell. This time the task is to implement depth-first search (DFS). Be careful: DFS is vulnerable to infinite loops. Implement some sort of protection against them."
      ]
    },
    {
      "cell_type": "code",
      "execution_count": null,
      "metadata": {
        "id": "-rl4WSnfd6pO"
      },
      "outputs": [],
      "source": [
        "class DFSAgent(Agent):\n",
        "    def __init__(self, problem):\n",
        "        self.problem = problem\n",
        "        taken_states = set()\n",
        "        taken_states.add(self.problem.initial_state)\n",
        "        self.plan = self.dfs(self.problem.initial_state, [], taken_states)\n",
        "        \n",
        "    def next_action(self, percepts):\n",
        "        return self.plan.pop(0)\n",
        "    \n",
        "    def dfs(self,initial_state, steps, taken_states):\n",
        "        if(self.problem.is_goal(initial_state)):\n",
        "            return steps\n",
        "        for action in self.problem.available_actions(initial_state):\n",
        "            later_state = self.problem.do_action(initial_state, action)\n",
        "            if later_state not in taken_states and len(steps) < 45:\n",
        "              later_steps = steps.copy()\n",
        "              taken_states.add(later_state)\n",
        "              later_steps.append(action)\n",
        "              route = self.dfs(later_state, later_steps, taken_states)\n",
        "              if route:\n",
        "                  return route\n"
      ]
    },
    {
      "cell_type": "markdown",
      "metadata": {},
      "source": [
        "This implementation of dfs uses heuristics in form of cutting any branch of dfs that has more than 45 steps in order to narrow down solutions and help it to be able to solve 8-puzzle problem"
      ]
    },
    {
      "cell_type": "code",
      "execution_count": null,
      "metadata": {
        "colab": {
          "base_uri": "https://localhost:8080/"
        },
        "id": "qGB0nkXyd6pO",
        "outputId": "44558003-a4bc-4598-dfa5-8cd1d071928a"
      },
      "outputs": [
        {
          "name": "stdout",
          "output_type": "stream",
          "text": [
            "Plan to be executed ['Suck', 'Right', 'Suck']\n",
            "Reached state: (1, (False, False))\n",
            "Is it goal? True\n"
          ]
        }
      ],
      "source": [
        "problem = VacuumProblem()\n",
        "agent = DFSAgent(problem)\n",
        "\n",
        "print(\"Plan to be executed\", agent.plan)\n",
        "\n",
        "state = problem.initial_state\n",
        "while not problem.is_goal(state):\n",
        "    action = agent.next_action(None)\n",
        "    state = problem.do_action(state, action)\n",
        "    \n",
        "print(\"Reached state:\", state)\n",
        "print(\"Is it goal?\", problem.is_goal(state))"
      ]
    },
    {
      "cell_type": "markdown",
      "metadata": {
        "id": "6-UnNWind6pP"
      },
      "source": [
        "## Task 3: Test it on 8-puzzle"
      ]
    },
    {
      "cell_type": "markdown",
      "metadata": {
        "id": "iIeARw5rd6pP"
      },
      "source": [
        "The 8-puzzle, an instance of which is shown in the figure, consists of a 3×3 board with\n",
        "eight numbered tiles and a blank space. A tile adjacent to the blank space can slide into the space. The object is to reach a specified goal state, such as the one shown on the right of the figure. The standard formulation is as follows:\n",
        "\n",
        "* *States*: A state description specifies the location of each of the eight tiles and the blank in one of the nine squares.\n",
        "* *Initial state*: Any state can be designated as the initial state. Note that any given goal can be reached from exactly half of the possible initial states.\n",
        "* *Actions*: The simplest formulation defines the actions as movements of the blank space Left, Right, Up, or Down. Different subsets of these are possible depending on where the blank is.\n",
        "* *Transition model*: Given a state and action, this returns the resulting state; for example, if we apply Left to the start state in the figure, the resulting state has the 5 and the blank switched.\n",
        "* *Goal test*: This checks whether the state matches the goal configuration shown in the figure. (Other goal configurations are possible.)\n",
        "\n",
        "![](aima-images/fig3_4.png)"
      ]
    },
    {
      "cell_type": "markdown",
      "metadata": {
        "id": "m75MIOZRd6pP"
      },
      "source": [
        "Your task is to implement `PuzzleProblem` as a subclass of the class `Problem` to provide a formal problem description of the 8-puzzle problem described above. Then test your `DFSAgent` and `BFSAgent` on this new problem. \n",
        "\n",
        "It's fine if your agents are incapable of solving the problem for the presented start state and goal due to the excessive length of the necessary plan. If this the case, simplify the problem by changing the start state and/or the goal. The idea of this task is to show that your implementations are correct and the agents are capable - in principle - of solving this problem, not waiting for hours on end for computations to complete."
      ]
    },
    {
      "cell_type": "code",
      "execution_count": null,
      "metadata": {
        "id": "_UriWaBKd6pP"
      },
      "outputs": [],
      "source": [
        "class PuzzleProblem(Problem):\n",
        "    @property\n",
        "    def initial_state(self):\n",
        "        return (4,(7,2,4,5,0,6,8,3,1))\n",
        "        \n",
        "    def available_actions(self, state):\n",
        "        position = state[0]\n",
        "        actions = []\n",
        "\n",
        "        if position % 3 > 0:\n",
        "            actions.append(\"Right\")\n",
        "        \n",
        "        if position % 3 < 2:\n",
        "            actions.append(\"Left\")\n",
        "        \n",
        "        if position > 2:\n",
        "            actions.append(\"Down\")\n",
        "        \n",
        "        if position < 6:\n",
        "            actions.append(\"Up\")\n",
        "        return actions\n",
        "        \n",
        "    def do_action(self, state, action):\n",
        "        board = list(state[1])\n",
        "        position = state[0]\n",
        "        \n",
        "        if(action == \"Down\"):\n",
        "            board[position], board[position-3] = board[position-3], board[position]\n",
        "            new_state = (position-3, tuple(board))\n",
        "            return new_state\n",
        "\n",
        "        elif(action == \"Up\"):\n",
        "            board[position], board[position+3] = board[position+3], board[position]\n",
        "            new_state = (position+3, tuple(board))\n",
        "            return new_state\n",
        "\n",
        "        elif(action == \"Right\"):\n",
        "            board[position], board[position-1] = board[position-1], board[position]\n",
        "            new_state = (position-1, tuple(board))\n",
        "            return new_state\n",
        "\n",
        "        elif(action == \"Left\"):\n",
        "            board[position], board[position+1] = board[position+1], board[position]\n",
        "            new_state = (position+1, tuple(board))\n",
        "            return new_state\n",
        "        raise Exception(\"invalid action\")\n",
        "    \n",
        "    def is_goal(self, state) -> bool:\n",
        "        return state == (0, (0, 1, 2, 3, 4, 5, 6, 7, 8))"
      ]
    },
    {
      "cell_type": "code",
      "execution_count": null,
      "metadata": {
        "colab": {
          "base_uri": "https://localhost:8080/"
        },
        "id": "EWg9zq3zd6pP",
        "outputId": "4fbea2f7-069d-4d14-8503-2fd66a806cef"
      },
      "outputs": [
        {
          "name": "stdout",
          "output_type": "stream",
          "text": [
            "Plan to be executed ['Right', 'Down', 'Left', 'Up', 'Left', 'Up', 'Right', 'Right', 'Down', 'Left', 'Left', 'Up', 'Right', 'Right', 'Down', 'Left', 'Left', 'Down', 'Right', 'Right', 'Up', 'Left', 'Left', 'Down', 'Right', 'Right']\n",
            "Reached state: (0, (0, 1, 2, 3, 4, 5, 6, 7, 8))\n",
            "Is it goal? True\n"
          ]
        }
      ],
      "source": [
        "problem = PuzzleProblem()\n",
        "agent = BFSAgent(problem)\n",
        "\n",
        "print(\"Plan to be executed\", agent.plan)\n",
        "\n",
        "state = problem.initial_state\n",
        "while not problem.is_goal(state):\n",
        "    action = agent.next_action(None)\n",
        "    state = problem.do_action(state, action)\n",
        "    \n",
        "print(\"Reached state:\", state)\n",
        "print(\"Is it goal?\", problem.is_goal(state))"
      ]
    },
    {
      "cell_type": "code",
      "execution_count": null,
      "metadata": {
        "id": "Sa9mhY2zd6pP"
      },
      "outputs": [
        {
          "name": "stdout",
          "output_type": "stream",
          "text": [
            "Plan to be executed ['Right', 'Down', 'Left', 'Left', 'Up', 'Right', 'Up', 'Right', 'Down', 'Left', 'Left', 'Up', 'Right', 'Right', 'Down', 'Left', 'Left', 'Down', 'Right', 'Right', 'Up', 'Left', 'Down', 'Right', 'Up', 'Left', 'Left', 'Up', 'Right', 'Down', 'Right', 'Up', 'Left', 'Left', 'Down', 'Right', 'Down', 'Left', 'Up', 'Right', 'Down', 'Right']\n",
            "Reached state: (0, (0, 1, 2, 3, 4, 5, 6, 7, 8))\n",
            "Is it goal? True\n"
          ]
        }
      ],
      "source": [
        "problem = PuzzleProblem()\n",
        "agent = DFSAgent(problem)\n",
        "\n",
        "print(\"Plan to be executed\", agent.plan)\n",
        "\n",
        "state = problem.initial_state\n",
        "while not problem.is_goal(state):\n",
        "    action = agent.next_action(None)\n",
        "    state = problem.do_action(state, action)\n",
        "    \n",
        "print(\"Reached state:\", state)\n",
        "print(\"Is it goal?\", problem.is_goal(state))"
      ]
    },
    {
      "cell_type": "markdown",
      "metadata": {
        "id": "_qE9RiHhd6pP"
      },
      "source": [
        "------------\n",
        "The pictures and the description of 8-puzzle are from \"Artificial Intelligence: A Modern Approach\" 3rd ed."
      ]
    }
  ],
  "metadata": {
    "colab": {
      "provenance": []
    },
    "kernelspec": {
      "display_name": "Python 3.10.0 64-bit",
      "language": "python",
      "name": "python3"
    },
    "language_info": {
      "codemirror_mode": {
        "name": "ipython",
        "version": 3
      },
      "file_extension": ".py",
      "mimetype": "text/x-python",
      "name": "python",
      "nbconvert_exporter": "python",
      "pygments_lexer": "ipython3",
      "version": "3.10.0"
    },
    "vscode": {
      "interpreter": {
        "hash": "49970d8a70049253b09e428136da9c3839964945cfa4a73b1e61647b35cd54a8"
      }
    }
  },
  "nbformat": 4,
  "nbformat_minor": 0
}
